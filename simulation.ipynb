{
 "cells": [
  {
   "cell_type": "markdown",
   "metadata": {},
   "source": [
    "# A Random Network Model for Synaptic Plasticity"
   ]
  },
  {
   "cell_type": "markdown",
   "metadata": {},
   "source": [
    "This notebook contains code accompanying the paper [A spatial small-world graph arising from activity-based reinforcement](https://arxiv.org/abs/1904.01817). "
   ]
  },
  {
   "cell_type": "markdown",
   "metadata": {},
   "source": [
    "We first implement the network dynamics and then rely on [TikZ](https://github.com/pgf-tikz/pgf) for visualization."
   ]
  },
  {
   "cell_type": "code",
   "execution_count": 90,
   "metadata": {},
   "outputs": [
    {
     "data": {
      "text/html": [
       "<iframe width=\"560\" height=\"315\" src=\"https://www.youtube.com/embed/A9zLKmt2nHo\" frameborder=\"0\" allowfullscreen></iframe>"
      ],
      "text/plain": [
       "<IPython.core.display.HTML object>"
      ]
     },
     "execution_count": 90,
     "metadata": {},
     "output_type": "execute_result"
    }
   ],
   "source": [
    "\n",
    "from IPython.display import HTML\n",
    "\n",
    "# Youtube\n",
    "HTML('<iframe width=\"560\" height=\"315\" src=\"https://www.youtube.com/embed/A9zLKmt2nHo\" frameborder=\"0\" allowfullscreen></iframe>')\n"
   ]
  },
  {
   "cell_type": "markdown",
   "metadata": {},
   "source": [
    "## The Model"
   ]
  },
  {
   "cell_type": "markdown",
   "metadata": {},
   "source": [
    "We consider a conceptually simplified random network model for the phenomenon of [synaptic plasticity](https://en.wikipedia.org/wiki/Synaptic_plasticity). We model the synaptic weight by a stochastic process on a fixed graph $G = (V, E)$ thought of as a collection of neurons interconnected by synapses."
   ]
  },
  {
   "cell_type": "markdown",
   "metadata": {},
   "source": [
    "More precisely, consider the set of neurons $V = \\mathbb Z \\times \\mathbb Z_{\\ge 0}$, which we think of copies of $\\mathbb Z$ organized in layers. The set of synapses $E$ is obtained by connecting each neuron $(k, h)$ in layer $h \\ge 0$  to all neurons of the form  $(\\ell, h + 1)$ with $|\\ell - k| \\le a^h$ for a model parameter $a >1$. Loosely speaking, $a$ governs the speed at which the visibility scope of a neuron increase, when moving to higher layers."
   ]
  },
  {
   "cell_type": "markdown",
   "metadata": {},
   "source": [
    "Additionally, the neurons feature iid heavy-tailed fitnesses $\\{F_v\\}_{v \\in V}$ with a tail index $\\gamma < 1$. "
   ]
  },
  {
   "cell_type": "markdown",
   "metadata": {},
   "source": [
    "On this marked network, we now define dynamically evolving synaptic weights $\\{W_t(e)\\}_{\\substack{e \\in E \\\\ t \\ge 0 }}$ as follows. Each of the neurons is equipped with a Poisson clock. When the clock rings at neuron $v \\in V$ at time $t \\ge 0$, then the corresponding neuron fires and the weight of one of the incident synapses $(v, w)$ leading to the next layer increases by 1. The crux of the model lies in the selection mechanism. The selection of the synapse occurs at random with probability proportional to \n",
    "$$F_wW_{t−}(v, w)^\\beta.$$"
   ]
  },
  {
   "cell_type": "markdown",
   "metadata": {},
   "source": [
    "Hence, the model incorporates two effects. First, the fitter the neuron, the higher the probability that it is selected. Second, if a synapse was used frequently in the past, then it means that it is of importance and should be selected again with a higher probability in the future."
   ]
  },
  {
   "cell_type": "markdown",
   "metadata": {},
   "source": [
    "## Simulation of Network Dynamics"
   ]
  },
  {
   "cell_type": "markdown",
   "metadata": {},
   "source": [
    "Now, we simulate the random network model as described above."
   ]
  },
  {
   "cell_type": "code",
   "execution_count": 8,
   "metadata": {},
   "outputs": [],
   "source": [
    "def simulate_network(a = 3,\n",
    "                     beta = 1.5,\n",
    "                     gamma = .2,\n",
    "                     hrange = 250,\n",
    "                     layers = 6, \n",
    "                     runs = 29):\n",
    "    \"\"\"Simulation of the network model\n",
    "    # Arguments\n",
    "        a: network parameter for scope increase\n",
    "        beta: reinforcement strength for synaptic weights\n",
    "        gamma: pareto parameter\n",
    "        hrange: horizontal range of the network\n",
    "        layers: number of layers\n",
    "        runs: number of firings per neuron\n",
    "       \n",
    "    # Result\n",
    "        fitnesses and evolution of edge weights\n",
    "    \"\"\"\n",
    "    \n",
    "    #initialize weights and fitnesses\n",
    "    scope_sizes = [1 + 2 * a**layer for layer in range(layers)]     \n",
    "    fits =  [np.random.rand(hrange) ** (-1 / gamma) for _ in range(layers)] \n",
    "    weights = [np.ones([hrange, scope]) for scope in scope_sizes]\n",
    "    weight_trace = [weights]\n",
    "    for _ in range(runs):\n",
    "        #selection probabilities proportional to power weight and fitness\n",
    "        weight_contrib = [weight_vec ** beta for weight_vec in weights]\n",
    "        neighbs = neighb_list(a, hrange)\n",
    "        fit_contribs = [[fit[neighb] for neighb in nb] for (fit, nb) in zip(fits, neighbs)]\n",
    "\n",
    "        #compute selection probabilities\n",
    "        sel_probs = [weight * fit for (weight, fit) in zip(weight_contrib, fit_contribs)]\n",
    "\n",
    "        #select random edges \n",
    "        edge_choices = [np.apply_along_axis(lambda x: np.random.choice(len(x), 1, p = x / sum(x))[0], \n",
    "                                            1, \n",
    "                                            probs) \n",
    "               for probs in sel_probs]\n",
    "\n",
    "        #one-hot encode selected edges\n",
    "        increments = [one_hot(edge_choice, scope) for (edge_choice, scope) in zip(edge_choices, scope_sizes)]\n",
    "\n",
    "        #update weights\n",
    "        weights = [weight + increment for (weight, increment) in zip(weights, increments)]\n",
    "        weight_trace += [weights]\n",
    "    \n",
    "    return (fits, weight_trace)"
   ]
  },
  {
   "cell_type": "markdown",
   "metadata": {},
   "source": [
    "First, we need a function to represent the network as a list of neighbors. "
   ]
  },
  {
   "cell_type": "code",
   "execution_count": 9,
   "metadata": {},
   "outputs": [],
   "source": [
    "import numpy as np \n",
    "def neighb_list(a,\n",
    "              hrange = 250,\n",
    "              layers = 6):\n",
    "    \"\"\"Represent network structure as list of neighbors\n",
    "    # Arguments\n",
    "        a: network parameter for scope increase\n",
    "        hrange: horizontal range of the network\n",
    "        layers: number of layers\n",
    "    # Result\n",
    "        list of coordinates of neighbors\n",
    "    \"\"\"\n",
    "    #centered_scopes\n",
    "    c_scopes = [np.arange(-a ** layer, a**layer + 1) for layer in range(layers)]\n",
    "    return([np.array([(idx + c_scope) % hrange for idx in range(hrange)]) for c_scope in c_scopes])"
   ]
  },
  {
   "cell_type": "markdown",
   "metadata": {},
   "source": [
    "We need an auxiliary function to generate one-hot encoded vectors."
   ]
  },
  {
   "cell_type": "code",
   "execution_count": 11,
   "metadata": {},
   "outputs": [],
   "source": [
    "def one_hot(idxs, size):\n",
    "    \"\"\"Compute one-hot encoded vectors from an array of indexes\n",
    "    # Arguments\n",
    "        idxs: index array\n",
    "        size: encoding dimension\n",
    "    # Result\n",
    "        one-hot encoded vectors as specified by indexes\n",
    "    \"\"\"\n",
    "    one_hot = np.zeros([len(idxs), size])\n",
    "    one_hot[range(len(idxs)), idxs] = 1\n",
    "    return(one_hot)"
   ]
  },
  {
   "cell_type": "code",
   "execution_count": 12,
   "metadata": {},
   "outputs": [],
   "source": [
    "#random seed\n",
    "seed = 45\n",
    "np.random.seed(seed)\n",
    "\n",
    "fits, weight_trace = simulate_network()"
   ]
  },
  {
   "cell_type": "markdown",
   "metadata": {},
   "source": [
    "## Visualization"
   ]
  },
  {
   "cell_type": "markdown",
   "metadata": {},
   "source": [
    "Finally, we create a TikZ-visualization of the network dynamics."
   ]
  },
  {
   "cell_type": "code",
   "execution_count": 34,
   "metadata": {},
   "outputs": [],
   "source": [
    "def plot_synapses(idxs,\n",
    "                  weights,\n",
    "                  thresh = 1,\n",
    "                  x_scale = .15,\n",
    "                  node_scale = .2,\n",
    "                  line_scale = 2,\n",
    "                  gray_scale = 5,\n",
    "                  max_line_width = 1.6):\n",
    "    \"\"\"Plot relevant synapses\n",
    "    # Arguments\n",
    "        idxs: indexes of layer-0 node\n",
    "        weights: weights to be plotted\n",
    "        thresh: weight-threshold for selecting a synapse\n",
    "        x_scale: scaling in x-direction\n",
    "        node_scale: scaling of nodes\n",
    "        line_scale: scaling of line width\n",
    "        gray_scale: gray_scale of lines\n",
    "        max_line_width: maximum line width of graph\n",
    "        \n",
    "    # Result\n",
    "        tikz representation of graph\n",
    "    \"\"\"\n",
    "    \n",
    "    \n",
    "    layers = len(weights)\n",
    "    hrange = len(weights[0])\n",
    "    a = len(weights[0][0])\n",
    "    \n",
    "    result = []\n",
    "    path = []\n",
    "    neighbs = neighb_list(a, hrange)\n",
    "    \n",
    "    for layer in range(layers - 1):\n",
    "        \n",
    "        #collect only relevant edges\n",
    "        rel_synaps = weights[layer] > thresh\n",
    "        next_idxs = [neighbs[layer][idx][rel_synaps[idx]] for idx in idxs]\n",
    "        rel_synaps = [rel_synaps[idx] for idx in idxs]\n",
    "        \n",
    "        #draw paths        \n",
    "        string = \"\\\\draw[line width = {5:1.2f}pt, black!{4:1.2f}!white]\"\n",
    "        string += \" ({0:1.2f}, {1:1.2f})--({2:1.2f}, {3:1.2f});\\n\"\n",
    "        path_unordered = [[string.format((idx % hrange) * x_scale,\n",
    "                               layer,\n",
    "                               (neighb % hrange) * x_scale,\n",
    "                               layer + 1,\n",
    "                               min(gray_scale * weight, 100),\n",
    "                               min(line_scale * weight, max_line_width)),\n",
    "                           weight]\n",
    "                 for (idx, rel_synaps) in zip(idxs, rel_synaps)\n",
    "                for (neighb, weight) in zip(neighbs[layer][idx][rel_synaps], \n",
    "                                           weights[layer][idx][rel_synaps])]\n",
    "                                           \n",
    "        #order for drawing\n",
    "        ordering = np.argsort([el[1] for el in path_unordered])\n",
    "        path += np.array([el[0] for el in path_unordered])[ordering].tolist()\n",
    "        idxs = np.unique([y for x in next_idxs for y in x])\n",
    "        \n",
    "        #add point\n",
    "        result += [\"\\\\fill ({0:1.2f}, {1:1.2f}) circle ({2:1.1f}pt);\\n\".format((idx % hrange) * x_scale, \n",
    "                                                                          layer + 1,\n",
    "                                                                          node_scale * np.log(fits)[layer, idx]) \n",
    "                   for idx in idxs]\n",
    "\n",
    "    path += [';\\n']\n",
    "    return ''.join(path + result)"
   ]
  },
  {
   "cell_type": "markdown",
   "metadata": {},
   "source": [
    "Draw paths from selected nodes"
   ]
  },
  {
   "cell_type": "code",
   "execution_count": 45,
   "metadata": {},
   "outputs": [],
   "source": [
    "start_idx = 50\n",
    "end_idx = 100\n",
    "\n",
    "paths_trace = []\n",
    "\n",
    "for i in range(5, len(weight_trace)):\n",
    "    paths = plot_synapses( np.linspace(start_idx, \n",
    "                                         end_idx, \n",
    "                                         end_idx - start_idx + 1, \n",
    "                                         dtype = int), \n",
    "                          weight_trace[i])\n",
    "    paths = '{\\\\begin{tikzpicture}\\n' + paths + '\\\\end{tikzpicture}\\n}'\n",
    "    paths_trace += [paths]"
   ]
  },
  {
   "cell_type": "markdown",
   "metadata": {},
   "source": [
    "Write to file"
   ]
  },
  {
   "cell_type": "code",
   "execution_count": 46,
   "metadata": {},
   "outputs": [],
   "source": [
    "fname = 'coalesc.tex'\n",
    "\n",
    "f = open(fname, \"w\")\n",
    "for paths in paths_trace:\n",
    "    f.write(paths)\n",
    "f.close()"
   ]
  },
  {
   "cell_type": "markdown",
   "metadata": {},
   "source": [
    "Compile pdf"
   ]
  },
  {
   "cell_type": "code",
   "execution_count": 47,
   "metadata": {},
   "outputs": [
    {
     "name": "stdout",
     "output_type": "stream",
     "text": [
      "This is pdfTeX, Version 3.14159265-2.6-1.40.19 (TeX Live 2019/dev/Debian) (preloaded format=pdflatex)\n",
      " restricted \\write18 enabled.\n",
      "entering extended mode\n",
      "(./evolFig.tex\n",
      "LaTeX2e <2018-12-01>\n",
      "(/usr/share/texlive/texmf-dist/tex/latex/standalone/standalone.cls\n",
      "Document Class: standalone 2018/03/26 v1.3a Class to compile TeX sub-files stan\n",
      "dalone\n",
      "(/usr/share/texlive/texmf-dist/tex/latex/tools/shellesc.sty)\n",
      "(/usr/share/texlive/texmf-dist/tex/generic/oberdiek/ifluatex.sty)\n",
      "(/usr/share/texlive/texmf-dist/tex/generic/oberdiek/ifpdf.sty)\n",
      "(/usr/share/texlive/texmf-dist/tex/generic/ifxetex/ifxetex.sty)\n",
      "(/usr/share/texlive/texmf-dist/tex/latex/xkeyval/xkeyval.sty\n",
      "(/usr/share/texlive/texmf-dist/tex/generic/xkeyval/xkeyval.tex\n",
      "(/usr/share/texlive/texmf-dist/tex/generic/xkeyval/xkvutils.tex\n",
      "(/usr/share/texlive/texmf-dist/tex/generic/xkeyval/keyval.tex))))\n",
      "(/usr/share/texlive/texmf-dist/tex/latex/standalone/standalone.cfg)\n",
      "(/usr/share/texlive/texmf-dist/tex/latex/base/article.cls\n",
      "Document Class: article 2018/09/03 v1.4i Standard LaTeX document class\n",
      "(/usr/share/texlive/texmf-dist/tex/latex/base/size10.clo))\n",
      "(/usr/share/texlive/texmf-dist/tex/latex/pgf/frontendlayer/tikz.sty\n",
      "(/usr/share/texlive/texmf-dist/tex/latex/pgf/basiclayer/pgf.sty\n",
      "(/usr/share/texlive/texmf-dist/tex/latex/pgf/utilities/pgfrcs.sty\n",
      "(/usr/share/texlive/texmf-dist/tex/generic/pgf/utilities/pgfutil-common.tex\n",
      "(/usr/share/texlive/texmf-dist/tex/generic/pgf/utilities/pgfutil-common-lists.t\n",
      "ex)) (/usr/share/texlive/texmf-dist/tex/generic/pgf/utilities/pgfutil-latex.def\n",
      "(/usr/share/texlive/texmf-dist/tex/latex/ms/everyshi.sty))\n",
      "(/usr/share/texlive/texmf-dist/tex/generic/pgf/utilities/pgfrcs.code.tex\n",
      "(/usr/share/texlive/texmf-dist/tex/generic/pgf/pgf.revision.tex)))\n",
      "(/usr/share/texlive/texmf-dist/tex/latex/pgf/basiclayer/pgfcore.sty\n",
      "(/usr/share/texlive/texmf-dist/tex/latex/graphics/graphicx.sty\n",
      "(/usr/share/texlive/texmf-dist/tex/latex/graphics/graphics.sty\n",
      "(/usr/share/texlive/texmf-dist/tex/latex/graphics/trig.sty)\n",
      "(/usr/share/texlive/texmf-dist/tex/latex/graphics-cfg/graphics.cfg)\n",
      "(/usr/share/texlive/texmf-dist/tex/latex/graphics-def/pdftex.def)))\n",
      "(/usr/share/texlive/texmf-dist/tex/latex/pgf/systemlayer/pgfsys.sty\n",
      "(/usr/share/texlive/texmf-dist/tex/generic/pgf/systemlayer/pgfsys.code.tex\n",
      "(/usr/share/texlive/texmf-dist/tex/generic/pgf/utilities/pgfkeys.code.tex\n",
      "(/usr/share/texlive/texmf-dist/tex/generic/pgf/utilities/pgfkeysfiltered.code.t\n",
      "ex)) (/usr/share/texlive/texmf-dist/tex/generic/pgf/systemlayer/pgf.cfg)\n",
      "(/usr/share/texlive/texmf-dist/tex/generic/pgf/systemlayer/pgfsys-pdftex.def\n",
      "(/usr/share/texlive/texmf-dist/tex/generic/pgf/systemlayer/pgfsys-common-pdf.de\n",
      "f)))\n",
      "(/usr/share/texlive/texmf-dist/tex/generic/pgf/systemlayer/pgfsyssoftpath.code.\n",
      "tex)\n",
      "(/usr/share/texlive/texmf-dist/tex/generic/pgf/systemlayer/pgfsysprotocol.code.\n",
      "tex)) (/usr/share/texlive/texmf-dist/tex/latex/xcolor/xcolor.sty\n",
      "(/usr/share/texlive/texmf-dist/tex/latex/graphics-cfg/color.cfg))\n",
      "(/usr/share/texlive/texmf-dist/tex/generic/pgf/basiclayer/pgfcore.code.tex\n",
      "(/usr/share/texlive/texmf-dist/tex/generic/pgf/math/pgfmath.code.tex\n",
      "(/usr/share/texlive/texmf-dist/tex/generic/pgf/math/pgfmathcalc.code.tex\n",
      "(/usr/share/texlive/texmf-dist/tex/generic/pgf/math/pgfmathutil.code.tex)\n",
      "(/usr/share/texlive/texmf-dist/tex/generic/pgf/math/pgfmathparser.code.tex)\n",
      "(/usr/share/texlive/texmf-dist/tex/generic/pgf/math/pgfmathfunctions.code.tex\n",
      "(/usr/share/texlive/texmf-dist/tex/generic/pgf/math/pgfmathfunctions.basic.code\n",
      ".tex)\n",
      "(/usr/share/texlive/texmf-dist/tex/generic/pgf/math/pgfmathfunctions.trigonomet\n",
      "ric.code.tex)\n",
      "(/usr/share/texlive/texmf-dist/tex/generic/pgf/math/pgfmathfunctions.random.cod\n",
      "e.tex)\n",
      "(/usr/share/texlive/texmf-dist/tex/generic/pgf/math/pgfmathfunctions.comparison\n",
      ".code.tex)\n",
      "(/usr/share/texlive/texmf-dist/tex/generic/pgf/math/pgfmathfunctions.base.code.\n",
      "tex)\n",
      "(/usr/share/texlive/texmf-dist/tex/generic/pgf/math/pgfmathfunctions.round.code\n",
      ".tex)\n",
      "(/usr/share/texlive/texmf-dist/tex/generic/pgf/math/pgfmathfunctions.misc.code.\n",
      "tex)\n",
      "(/usr/share/texlive/texmf-dist/tex/generic/pgf/math/pgfmathfunctions.integerari\n",
      "thmetics.code.tex)))\n",
      "(/usr/share/texlive/texmf-dist/tex/generic/pgf/math/pgfmathfloat.code.tex))\n",
      "(/usr/share/texlive/texmf-dist/tex/generic/pgf/basiclayer/pgfcorepoints.code.te\n",
      "x)\n",
      "(/usr/share/texlive/texmf-dist/tex/generic/pgf/basiclayer/pgfcorepathconstruct.\n",
      "code.tex)\n",
      "(/usr/share/texlive/texmf-dist/tex/generic/pgf/basiclayer/pgfcorepathusage.code\n",
      ".tex)\n",
      "(/usr/share/texlive/texmf-dist/tex/generic/pgf/basiclayer/pgfcorescopes.code.te\n",
      "x)\n",
      "(/usr/share/texlive/texmf-dist/tex/generic/pgf/basiclayer/pgfcoregraphicstate.c\n",
      "ode.tex)\n",
      "(/usr/share/texlive/texmf-dist/tex/generic/pgf/basiclayer/pgfcoretransformation\n",
      "s.code.tex)\n",
      "(/usr/share/texlive/texmf-dist/tex/generic/pgf/basiclayer/pgfcorequick.code.tex\n",
      ")\n",
      "(/usr/share/texlive/texmf-dist/tex/generic/pgf/basiclayer/pgfcoreobjects.code.t\n",
      "ex)\n",
      "(/usr/share/texlive/texmf-dist/tex/generic/pgf/basiclayer/pgfcorepathprocessing\n",
      ".code.tex)\n",
      "(/usr/share/texlive/texmf-dist/tex/generic/pgf/basiclayer/pgfcorearrows.code.te\n",
      "x)\n",
      "(/usr/share/texlive/texmf-dist/tex/generic/pgf/basiclayer/pgfcoreshade.code.tex\n",
      ")\n",
      "(/usr/share/texlive/texmf-dist/tex/generic/pgf/basiclayer/pgfcoreimage.code.tex\n",
      "\n",
      "(/usr/share/texlive/texmf-dist/tex/generic/pgf/basiclayer/pgfcoreexternal.code.\n",
      "tex))\n",
      "(/usr/share/texlive/texmf-dist/tex/generic/pgf/basiclayer/pgfcorelayers.code.te\n",
      "x)\n",
      "(/usr/share/texlive/texmf-dist/tex/generic/pgf/basiclayer/pgfcoretransparency.c\n",
      "ode.tex)\n",
      "(/usr/share/texlive/texmf-dist/tex/generic/pgf/basiclayer/pgfcorepatterns.code.\n",
      "tex)\n",
      "(/usr/share/texlive/texmf-dist/tex/generic/pgf/basiclayer/pgfcorerdf.code.tex))\n",
      ")\n",
      "(/usr/share/texlive/texmf-dist/tex/generic/pgf/modules/pgfmoduleshapes.code.tex\n",
      ") (/usr/share/texlive/texmf-dist/tex/generic/pgf/modules/pgfmoduleplot.code.tex\n",
      ")\n",
      "(/usr/share/texlive/texmf-dist/tex/latex/pgf/compatibility/pgfcomp-version-0-65\n",
      ".sty)\n",
      "(/usr/share/texlive/texmf-dist/tex/latex/pgf/compatibility/pgfcomp-version-1-18\n",
      ".sty)) (/usr/share/texlive/texmf-dist/tex/latex/pgf/utilities/pgffor.sty\n",
      "(/usr/share/texlive/texmf-dist/tex/latex/pgf/utilities/pgfkeys.sty\n",
      "(/usr/share/texlive/texmf-dist/tex/generic/pgf/utilities/pgfkeys.code.tex))\n",
      "(/usr/share/texlive/texmf-dist/tex/latex/pgf/math/pgfmath.sty\n",
      "(/usr/share/texlive/texmf-dist/tex/generic/pgf/math/pgfmath.code.tex))\n",
      "(/usr/share/texlive/texmf-dist/tex/generic/pgf/utilities/pgffor.code.tex\n",
      "(/usr/share/texlive/texmf-dist/tex/generic/pgf/math/pgfmath.code.tex)))\n",
      "(/usr/share/texlive/texmf-dist/tex/generic/pgf/frontendlayer/tikz/tikz.code.tex\n",
      "\n",
      "(/usr/share/texlive/texmf-dist/tex/generic/pgf/libraries/pgflibraryplothandlers\n",
      ".code.tex)\n",
      "(/usr/share/texlive/texmf-dist/tex/generic/pgf/modules/pgfmodulematrix.code.tex\n",
      ")\n",
      "(/usr/share/texlive/texmf-dist/tex/generic/pgf/frontendlayer/tikz/libraries/tik\n",
      "zlibrarytopaths.code.tex)))) (./evolFig.aux)\n",
      "ABD: EveryShipout initializing macros\n",
      "(/usr/share/texlive/texmf-dist/tex/context/base/mkii/supp-pdf.mkii\n",
      "[Loading MPS to PDF converter (version 2006.09.02).]\n",
      ") (/usr/share/texlive/texmf-dist/tex/latex/oberdiek/epstopdf-base.sty\n",
      "(/usr/share/texlive/texmf-dist/tex/generic/oberdiek/infwarerr.sty)\n",
      "(/usr/share/texlive/texmf-dist/tex/latex/oberdiek/grfext.sty\n",
      "(/usr/share/texlive/texmf-dist/tex/generic/oberdiek/kvdefinekeys.sty\n",
      "(/usr/share/texlive/texmf-dist/tex/generic/oberdiek/ltxcmds.sty)))\n",
      "(/usr/share/texlive/texmf-dist/tex/latex/oberdiek/kvoptions.sty\n",
      "(/usr/share/texlive/texmf-dist/tex/generic/oberdiek/kvsetkeys.sty\n",
      "(/usr/share/texlive/texmf-dist/tex/generic/oberdiek/etexcmds.sty)))\n",
      "(/usr/share/texlive/texmf-dist/tex/generic/oberdiek/pdftexcmds.sty)\n",
      "(/usr/share/texlive/texmf-dist/tex/latex/latexconfig/epstopdf-sys.cfg))\n",
      "(./coalesc.tex [1] [2] [3] [4] [5] [6] [7] [8] [9] [10] [11] [12] [13] [14]\n",
      "[15] [16] [17] [18] [19] [20] [21] [22] [23] [24] [25]) (./evolFig.aux) )\n",
      "(see the transcript file for additional information)\n",
      "Output written on evolFig.pdf (25 pages, 167407 bytes).\n",
      "Transcript written on evolFig.log.\n"
     ]
    }
   ],
   "source": [
    "!pdflatex evolFig.tex\n"
   ]
  },
  {
   "cell_type": "markdown",
   "metadata": {},
   "source": [
    "Create GIF"
   ]
  },
  {
   "cell_type": "code",
   "execution_count": 48,
   "metadata": {},
   "outputs": [],
   "source": [
    "!convert -density 150 -delay 16 -loop 1 -background white -alpha remove evolFig.pdf evolFig.gif"
   ]
  },
  {
   "cell_type": "code",
   "execution_count": null,
   "metadata": {},
   "outputs": [],
   "source": []
  }
 ],
 "metadata": {
  "kernelspec": {
   "display_name": "Python 3",
   "language": "python",
   "name": "python3"
  },
  "language_info": {
   "codemirror_mode": {
    "name": "ipython",
    "version": 3
   },
   "file_extension": ".py",
   "mimetype": "text/x-python",
   "name": "python",
   "nbconvert_exporter": "python",
   "pygments_lexer": "ipython3",
   "version": "3.7.3"
  }
 },
 "nbformat": 4,
 "nbformat_minor": 2
}
